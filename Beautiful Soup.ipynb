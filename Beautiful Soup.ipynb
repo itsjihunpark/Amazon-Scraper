{
 "cells": [
  {
   "cell_type": "code",
   "execution_count": 2,
   "id": "e64496ed",
   "metadata": {},
   "outputs": [
    {
     "name": "stdout",
     "output_type": "stream",
     "text": [
      "Requirement already satisfied: bs4 in c:\\users\\jihun\\appdata\\local\\programs\\python\\python311\\lib\\site-packages (0.0.1)Note: you may need to restart the kernel to use updated packages.\n",
      "\n",
      "Requirement already satisfied: beautifulsoup4 in c:\\users\\jihun\\appdata\\local\\programs\\python\\python311\\lib\\site-packages (from bs4) (4.12.2)\n",
      "Requirement already satisfied: soupsieve>1.2 in c:\\users\\jihun\\appdata\\local\\programs\\python\\python311\\lib\\site-packages (from beautifulsoup4->bs4) (2.4.1)\n"
     ]
    }
   ],
   "source": [
    "pip install bs4"
   ]
  },
  {
   "cell_type": "code",
   "execution_count": 5,
   "id": "8c5d8c43",
   "metadata": {},
   "outputs": [
    {
     "name": "stdout",
     "output_type": "stream",
     "text": [
      "Requirement already satisfied: requests in c:\\users\\jihun\\appdata\\local\\programs\\python\\python311\\lib\\site-packages (2.31.0)\n",
      "Requirement already satisfied: charset-normalizer<4,>=2 in c:\\users\\jihun\\appdata\\local\\programs\\python\\python311\\lib\\site-packages (from requests) (3.2.0)\n",
      "Requirement already satisfied: idna<4,>=2.5 in c:\\users\\jihun\\appdata\\local\\programs\\python\\python311\\lib\\site-packages (from requests) (3.4)\n",
      "Requirement already satisfied: urllib3<3,>=1.21.1 in c:\\users\\jihun\\appdata\\local\\programs\\python\\python311\\lib\\site-packages (from requests) (2.0.3)\n",
      "Requirement already satisfied: certifi>=2017.4.17 in c:\\users\\jihun\\appdata\\local\\programs\\python\\python311\\lib\\site-packages (from requests) (2023.5.7)\n",
      "Note: you may need to restart the kernel to use updated packages.\n"
     ]
    }
   ],
   "source": [
    "pip install requests"
   ]
  },
  {
   "cell_type": "code",
   "execution_count": 9,
   "id": "3e98010f",
   "metadata": {},
   "outputs": [
    {
     "name": "stdout",
     "output_type": "stream",
     "text": [
      "Requirement already satisfied: pandas in c:\\users\\jihun\\appdata\\local\\programs\\python\\python311\\lib\\site-packages (2.0.3)Note: you may need to restart the kernel to use updated packages.\n",
      "\n",
      "Requirement already satisfied: python-dateutil>=2.8.2 in c:\\users\\jihun\\appdata\\local\\programs\\python\\python311\\lib\\site-packages (from pandas) (2.8.2)\n",
      "Requirement already satisfied: pytz>=2020.1 in c:\\users\\jihun\\appdata\\local\\programs\\python\\python311\\lib\\site-packages (from pandas) (2023.3)\n",
      "Requirement already satisfied: tzdata>=2022.1 in c:\\users\\jihun\\appdata\\local\\programs\\python\\python311\\lib\\site-packages (from pandas) (2023.3)\n",
      "Requirement already satisfied: numpy>=1.21.0 in c:\\users\\jihun\\appdata\\local\\programs\\python\\python311\\lib\\site-packages (from pandas) (1.25.1)\n",
      "Requirement already satisfied: six>=1.5 in c:\\users\\jihun\\appdata\\local\\programs\\python\\python311\\lib\\site-packages (from python-dateutil>=2.8.2->pandas) (1.16.0)\n"
     ]
    }
   ],
   "source": [
    "pip install pandas"
   ]
  },
  {
   "cell_type": "code",
   "execution_count": 2,
   "id": "b68dd963",
   "metadata": {},
   "outputs": [],
   "source": [
    "from bs4 import BeautifulSoup\n",
    "import requests\n",
    "import pandas as pd"
   ]
  },
  {
   "cell_type": "code",
   "execution_count": 3,
   "id": "7a2f70a7",
   "metadata": {},
   "outputs": [],
   "source": [
    "URL = \"https://www.amazon.co.uk/s?k=air+conditioner&crid=Z8N6DEILFEDW&sprefix=air+conditione%2Caps%2C84&ref=nb_sb_noss_2\""
   ]
  },
  {
   "cell_type": "code",
   "execution_count": 4,
   "id": "4843d79c",
   "metadata": {},
   "outputs": [],
   "source": [
    "#Headers for request to Amazon\n",
    "Headers = ({'User-Agent':'Mozilla/5.0 (Windows NT 10.0; Win64; x64) AppleWebKit/537.36 (KHTML, like Gecko) Chrome/114.0.0.0 Safari/537.36', 'Accept-;anguage':'en-US; q=0.5'})"
   ]
  },
  {
   "cell_type": "code",
   "execution_count": 38,
   "id": "f2faa518",
   "metadata": {},
   "outputs": [],
   "source": [
    "#HTTP request\n",
    "webpage = requests.get(URL, Headers)"
   ]
  },
  {
   "cell_type": "code",
   "execution_count": 39,
   "id": "231732c2",
   "metadata": {},
   "outputs": [
    {
     "data": {
      "text/plain": [
       "bytes"
      ]
     },
     "execution_count": 39,
     "metadata": {},
     "output_type": "execute_result"
    }
   ],
   "source": [
    "type(webpage.content)"
   ]
  },
  {
   "cell_type": "code",
   "execution_count": 7,
   "id": "7dba6a6a",
   "metadata": {},
   "outputs": [],
   "source": [
    "#Soup Object containing all html data\n",
    "soup = BeautifulSoup(webpage.content, 'html.parser')"
   ]
  },
  {
   "cell_type": "code",
   "execution_count": 11,
   "id": "bd703663",
   "metadata": {},
   "outputs": [],
   "source": [
    "#Fetch link as list of A tag objects\n",
    "links = soup.find_all(\"a\", attrs={'class': 'a-link-normal s-underline-text s-underline-link-text s-link-style a-text-normal'})"
   ]
  },
  {
   "cell_type": "code",
   "execution_count": 16,
   "id": "14129dfd",
   "metadata": {},
   "outputs": [],
   "source": [
    "link=links[0].get('href')"
   ]
  },
  {
   "cell_type": "code",
   "execution_count": 21,
   "id": "19d470e6",
   "metadata": {},
   "outputs": [],
   "source": [
    "product_link = 'https://amazon.co.uk'+ link"
   ]
  },
  {
   "cell_type": "code",
   "execution_count": 23,
   "id": "47f18edb",
   "metadata": {},
   "outputs": [
    {
     "data": {
      "text/plain": [
       "<Response [200]>"
      ]
     },
     "execution_count": 23,
     "metadata": {},
     "output_type": "execute_result"
    }
   ],
   "source": [
    "#Request to individual listing page\n",
    "indv_prod_page = requests.get(product_link, headers=Headers)"
   ]
  },
  {
   "cell_type": "code",
   "execution_count": null,
   "id": "333dcbf6",
   "metadata": {},
   "outputs": [],
   "source": []
  },
  {
   "cell_type": "code",
   "execution_count": 24,
   "id": "b1572193",
   "metadata": {},
   "outputs": [],
   "source": [
    "#Soup Object containing all html data\n",
    "invd_soup = BeautifulSoup(indv_prod_page.content, 'html.parser')"
   ]
  },
  {
   "cell_type": "code",
   "execution_count": 28,
   "id": "f82760b8",
   "metadata": {
    "scrolled": false
   },
   "outputs": [
    {
     "data": {
      "text/plain": [
       "'TANGZON 5-in-1 Portable Air Conditioner 9000/12000BTU, WIFI Smart App Compatible, Heater, Dehumidifier, 2/3 Speeds Fan with Sleep Mode, Remote Control, 24H Timer & Digital Display (9000BTU, 2 Speeds)'"
      ]
     },
     "execution_count": 28,
     "metadata": {},
     "output_type": "execute_result"
    }
   ],
   "source": [
    "invd_soup.find('span', attrs={'id': 'productTitle'}).text.strip()"
   ]
  },
  {
   "cell_type": "code",
   "execution_count": 34,
   "id": "1e2777cd",
   "metadata": {},
   "outputs": [
    {
     "data": {
      "text/plain": [
       "'£369.90'"
      ]
     },
     "execution_count": 34,
     "metadata": {},
     "output_type": "execute_result"
    }
   ],
   "source": [
    "invd_soup.find('span', attrs={'class':'a-price aok-align-center reinventPricePriceToPayMargin priceToPay'}).find('span', {'class':'a-offscreen'}).text"
   ]
  },
  {
   "cell_type": "code",
   "execution_count": 35,
   "id": "80f0dd0e",
   "metadata": {},
   "outputs": [
    {
     "data": {
      "text/plain": [
       "'4.8 out of 5 stars'"
      ]
     },
     "execution_count": 35,
     "metadata": {},
     "output_type": "execute_result"
    }
   ],
   "source": [
    "invd_soup.find('span', attrs={'class': 'a-icon-alt'}).text.strip()"
   ]
  }
 ],
 "metadata": {
  "kernelspec": {
   "display_name": "Python 3 (ipykernel)",
   "language": "python",
   "name": "python3"
  },
  "language_info": {
   "codemirror_mode": {
    "name": "ipython",
    "version": 3
   },
   "file_extension": ".py",
   "mimetype": "text/x-python",
   "name": "python",
   "nbconvert_exporter": "python",
   "pygments_lexer": "ipython3",
   "version": "3.11.4"
  }
 },
 "nbformat": 4,
 "nbformat_minor": 5
}
